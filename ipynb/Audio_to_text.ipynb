{
 "cells": [
  {
   "cell_type": "code",
   "execution_count": 1,
   "metadata": {},
   "outputs": [
    {
     "name": "stdout",
     "output_type": "stream",
     "text": [
      "Transcription: free unlimited of 500 characters\n"
     ]
    }
   ],
   "source": [
    "from pydub import AudioSegment \n",
    "import speech_recognition as sr\n",
    "sound = AudioSegment.from_mp3(r\"./DataSource/testAudio.mp3\")\n",
    "wavFile = r'./DataSource/testAudio.wav'\n",
    "sound.export(wavFile, format=\"wav\")\n",
    "r = sr.Recognizer()\n",
    "with sr.AudioFile(wavFile) as source:\n",
    "        audio = r.record(source)                \n",
    "        print(\"Transcription: \" + r.recognize_google(audio))"
   ]
  }
 ],
 "metadata": {
  "kernelspec": {
   "display_name": "Python 3",
   "language": "python",
   "name": "python3"
  },
  "language_info": {
   "codemirror_mode": {
    "name": "ipython",
    "version": 3
   },
   "file_extension": ".py",
   "mimetype": "text/x-python",
   "name": "python",
   "nbconvert_exporter": "python",
   "pygments_lexer": "ipython3",
   "version": "3.7.3"
  }
 },
 "nbformat": 4,
 "nbformat_minor": 2
}
