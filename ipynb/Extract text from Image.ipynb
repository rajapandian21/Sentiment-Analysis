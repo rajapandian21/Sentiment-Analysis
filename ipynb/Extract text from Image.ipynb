{
 "cells": [
  {
   "cell_type": "code",
   "execution_count": 1,
   "metadata": {
    "scrolled": true
   },
   "outputs": [
    {
     "name": "stdout",
     "output_type": "stream",
     "text": [
      "How Does Sentiment Analysis Work?\n",
      "\n",
      "(a) Training\n",
      "\n",
      "TAG ——————————\n",
      "\n",
      "(Positive, Neutral, Negative)\n",
      "\n",
      "feat\n",
      "eature\n",
      "extractor\n",
      "text\n",
      "(b) Prediction\n",
      "feature\n",
      "extractor\n",
      "text\n",
      "© MonkeyLearn\n",
      "\n",
      "machine\n",
      "learning\n",
      "algorithm\n",
      "\n",
      " \n",
      "\n",
      " \n",
      "\n",
      " \n",
      "\n",
      " \n",
      "\n",
      " \n",
      "\n",
      " \n",
      "\n",
      " \n",
      "\n",
      " \n",
      "\n",
      " \n",
      "\n",
      "features\n",
      "\n",
      "classifier\n",
      "\n",
      " \n",
      "\n",
      " \n",
      "\n",
      " \n",
      "\n",
      " \n",
      "\n",
      " \n",
      "\n",
      " \n",
      "\n",
      " \n",
      "\n",
      " \n",
      "\n",
      " \n",
      "\n",
      "model\n",
      "\n",
      "‘\n",
      "\n",
      "TAG\n",
      "\n",
      "features\n",
      "\n",
      "(Positive, Neutral, Negative)\n"
     ]
    }
   ],
   "source": [
    "import pytesseract\n",
    "import cv2\n",
    "pytesseract.pytesseract.tesseract_cmd = r\"C:\\Program Files\\Tesseract-OCR\\tesseract\"\n",
    "img_cv = cv2.imread(r\"./DataSource/img2.png\")\n",
    "text=pytesseract.image_to_string(img_cv)\n",
    "print(text)"
   ]
  }
 ],
 "metadata": {
  "kernelspec": {
   "display_name": "Python 3",
   "language": "python",
   "name": "python3"
  },
  "language_info": {
   "codemirror_mode": {
    "name": "ipython",
    "version": 3
   },
   "file_extension": ".py",
   "mimetype": "text/x-python",
   "name": "python",
   "nbconvert_exporter": "python",
   "pygments_lexer": "ipython3",
   "version": "3.7.3"
  }
 },
 "nbformat": 4,
 "nbformat_minor": 2
}
